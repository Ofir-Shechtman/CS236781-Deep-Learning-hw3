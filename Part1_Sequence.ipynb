{
 "cells": [
  {
   "cell_type": "markdown",
   "metadata": {},
   "source": [
    "$$\n",
    "\\newcommand{\\mat}[1]{\\boldsymbol {#1}}\n",
    "\\newcommand{\\mattr}[1]{\\boldsymbol {#1}^\\top}\n",
    "\\newcommand{\\matinv}[1]{\\boldsymbol {#1}^{-1}}\n",
    "\\newcommand{\\vec}[1]{\\boldsymbol {#1}}\n",
    "\\newcommand{\\vectr}[1]{\\boldsymbol {#1}^\\top}\n",
    "\\newcommand{\\rvar}[1]{\\mathrm {#1}}\n",
    "\\newcommand{\\rvec}[1]{\\boldsymbol{\\mathrm{#1}}}\n",
    "\\newcommand{\\diag}{\\mathop{\\mathrm {diag}}}\n",
    "\\newcommand{\\set}[1]{\\mathbb {#1}}\n",
    "\\newcommand{\\norm}[1]{\\left\\lVert#1\\right\\rVert}\n",
    "\\newcommand{\\pderiv}[2]{\\frac{\\partial #1}{\\partial #2}}\n",
    "\\newcommand{\\bb}[1]{\\boldsymbol{#1}}\n",
    "$$\n",
    "# Part 1: Sequence Models\n",
    "<a id=part1></a>"
   ]
  },
  {
   "cell_type": "markdown",
   "metadata": {},
   "source": [
    "In this part we will learn about working with text sequences using recurrent neural networks.\n",
    "We'll go from a raw text file all the way to a fully trained GRU-RNN model and generate works of art!"
   ]
  },
  {
   "cell_type": "code",
   "execution_count": 1,
   "metadata": {},
   "outputs": [],
   "source": [
    "import unittest\n",
    "import os\n",
    "import sys\n",
    "import pathlib\n",
    "import urllib\n",
    "import shutil\n",
    "import re\n",
    "\n",
    "import numpy as np\n",
    "import torch\n",
    "import matplotlib.pyplot as plt\n",
    "\n",
    "%load_ext autoreload\n",
    "%autoreload 2"
   ]
  },
  {
   "cell_type": "code",
   "execution_count": 2,
   "metadata": {},
   "outputs": [
    {
     "name": "stdout",
     "output_type": "stream",
     "text": [
      "Using device: cuda\n"
     ]
    }
   ],
   "source": [
    "test = unittest.TestCase()\n",
    "plt.rcParams.update({'font.size': 12})\n",
    "device = torch.device('cuda' if torch.cuda.is_available() else 'cpu')\n",
    "print('Using device:', device)"
   ]
  },
  {
   "cell_type": "markdown",
   "metadata": {},
   "source": [
    "## Text generation with a char-level RNN\n",
    "<a id=part1_1></a>"
   ]
  },
  {
   "cell_type": "markdown",
   "metadata": {},
   "source": [
    "### Obtaining the corpus\n",
    "<a id=part1_2></a>"
   ]
  },
  {
   "cell_type": "markdown",
   "metadata": {},
   "source": [
    "Let's begin by downloading a corpus containing all the works of William Shakespeare.\n",
    "Since he was very prolific, this corpus is fairly large and will provide us with enough data for\n",
    "obtaining impressive results."
   ]
  },
  {
   "cell_type": "code",
   "execution_count": 3,
   "metadata": {},
   "outputs": [
    {
     "name": "stdout",
     "output_type": "stream",
     "text": [
      "Corpus file /home/ofir.s/.pytorch-datasets/shakespeare.txt exists, skipping download.\n"
     ]
    }
   ],
   "source": [
    "CORPUS_URL = 'https://github.com/cedricdeboom/character-level-rnn-datasets/raw/master/datasets/shakespeare.txt'\n",
    "DATA_DIR = pathlib.Path.home().joinpath('.pytorch-datasets')\n",
    "\n",
    "def download_corpus(out_path=DATA_DIR, url=CORPUS_URL, force=False):\n",
    "    pathlib.Path(out_path).mkdir(exist_ok=True)\n",
    "    out_filename = os.path.join(out_path, os.path.basename(url))\n",
    "    \n",
    "    if os.path.isfile(out_filename) and not force:\n",
    "        print(f'Corpus file {out_filename} exists, skipping download.')\n",
    "    else:\n",
    "        print(f'Downloading {url}...')\n",
    "        with urllib.request.urlopen(url) as response, open(out_filename, 'wb') as out_file:\n",
    "            shutil.copyfileobj(response, out_file)\n",
    "        print(f'Saved to {out_filename}.')\n",
    "    return out_filename\n",
    "    \n",
    "corpus_path = download_corpus()"
   ]
  },
  {
   "cell_type": "markdown",
   "metadata": {},
   "source": [
    "Load the text into memory and print a snippet:"
   ]
  },
  {
   "cell_type": "code",
   "execution_count": 4,
   "metadata": {},
   "outputs": [
    {
     "name": "stdout",
     "output_type": "stream",
     "text": [
      "Corpus length: 6347703 chars\n",
      "ALLS WELL THAT ENDS WELL\n",
      "\n",
      "by William Shakespeare\n",
      "\n",
      "Dramatis Personae\n",
      "\n",
      "  KING OF FRANCE\n",
      "  THE DUKE OF FLORENCE\n",
      "  BERTRAM, Count of Rousillon\n",
      "  LAFEU, an old lord\n",
      "  PAROLLES, a follower of Bertram\n",
      "  TWO FRENCH LORDS, serving with Bertram\n",
      "\n",
      "  STEWARD, Servant to the Countess of Rousillon\n",
      "  LAVACHE, a clown and Servant to the Countess of Rousillon\n",
      "  A PAGE, Servant to the Countess of Rousillon\n",
      "\n",
      "  COUNTESS OF ROUSILLON, mother to Bertram\n",
      "  HELENA, a gentlewoman protected by the Countess\n",
      "  A WIDOW OF FLORENCE.\n",
      "  DIANA, daughter to the Widow\n",
      "\n",
      "  VIOLENTA, neighbour and friend to the Widow\n",
      "  MARIANA, neighbour and friend to the Widow\n",
      "\n",
      "  Lords, Officers, Soldiers, etc., French and Florentine  \n",
      "\n",
      "SCENE:\n",
      "Rousillon; Paris; Florence; Marseilles\n",
      "\n",
      "ACT I. SCENE 1.\n",
      "Rousillon. The COUNT'S palace\n",
      "\n",
      "Enter BERTRAM, the COUNTESS OF ROUSILLON, HELENA, and LAFEU, all in black\n",
      "\n",
      "  COUNTESS. In delivering my son from me, I bury a second husband.\n",
      "  BERTRAM. And I in going, madam, weep o'er my father's death anew;\n",
      "    but I must attend his Majesty's command, to whom I am now in\n",
      "    ward, evermore in subjection.\n",
      "  LAFEU. You shall find of the King a husband, madam; you, sir, a\n",
      "    father. He that so generally is at all times good must of\n",
      "    \n"
     ]
    }
   ],
   "source": [
    "with open(corpus_path, 'r', encoding='utf-8') as f:\n",
    "    corpus = f.read()\n",
    "\n",
    "print(f'Corpus length: {len(corpus)} chars')\n",
    "print(corpus[7:1234])"
   ]
  },
  {
   "cell_type": "markdown",
   "metadata": {},
   "source": [
    "### Data Preprocessing\n",
    "<a id=part1_3></a>"
   ]
  },
  {
   "cell_type": "markdown",
   "metadata": {},
   "source": [
    "The first thing we'll need is to map from each unique character in the corpus to an index that will represent it in our learning process.\n",
    "\n",
    "**TODO**: Implement the `char_maps()` function in the `hw3/charnn.py` module."
   ]
  },
  {
   "cell_type": "code",
   "execution_count": 5,
   "metadata": {},
   "outputs": [
    {
     "name": "stdout",
     "output_type": "stream",
     "text": [
      "{'\\n': 0, ' ': 1, '!': 2, '\"': 3, '$': 4, '&': 5, \"'\": 6, '(': 7, ')': 8, ',': 9, '-': 10, '.': 11, '0': 12, '1': 13, '2': 14, '3': 15, '4': 16, '5': 17, '6': 18, '7': 19, '8': 20, '9': 21, ':': 22, ';': 23, '<': 24, '?': 25, 'A': 26, 'B': 27, 'C': 28, 'D': 29, 'E': 30, 'F': 31, 'G': 32, 'H': 33, 'I': 34, 'J': 35, 'K': 36, 'L': 37, 'M': 38, 'N': 39, 'O': 40, 'P': 41, 'Q': 42, 'R': 43, 'S': 44, 'T': 45, 'U': 46, 'V': 47, 'W': 48, 'X': 49, 'Y': 50, 'Z': 51, '[': 52, ']': 53, '_': 54, 'a': 55, 'b': 56, 'c': 57, 'd': 58, 'e': 59, 'f': 60, 'g': 61, 'h': 62, 'i': 63, 'j': 64, 'k': 65, 'l': 66, 'm': 67, 'n': 68, 'o': 69, 'p': 70, 'q': 71, 'r': 72, 's': 73, 't': 74, 'u': 75, 'v': 76, 'w': 77, 'x': 78, 'y': 79, 'z': 80, '}': 81, '\\ufeff': 82}\n"
     ]
    }
   ],
   "source": [
    "import hw3.charnn as charnn\n",
    "\n",
    "char_to_idx, idx_to_char = charnn.char_maps(corpus)\n",
    "print(char_to_idx)\n",
    "#corpus = corpus.replace('\\n', ' ').replace('\\'', ' ')\n",
    "#print(corpus[7:123].split(' '))\n",
    "\n",
    "test.assertEqual(len(char_to_idx), len(idx_to_char))\n",
    "test.assertSequenceEqual(list(char_to_idx.keys()), list(idx_to_char.values()))\n",
    "test.assertSequenceEqual(list(char_to_idx.values()), list(idx_to_char.keys()))"
   ]
  },
  {
   "cell_type": "markdown",
   "metadata": {},
   "source": [
    "Seems we have some strange characters in the corpus that are very rare and are probably due to mistakes.\n",
    "To reduce the length of each tensor we'll need to later represent our chars, it's best to remove them.\n",
    "\n",
    "**TODO**: Implement the `remove_chars()` function in the `hw3/charnn.py` module."
   ]
  },
  {
   "cell_type": "code",
   "execution_count": 6,
   "metadata": {},
   "outputs": [
    {
     "name": "stdout",
     "output_type": "stream",
     "text": [
      "Removed 34 chars\n"
     ]
    }
   ],
   "source": [
    "corpus, n_removed = charnn.remove_chars(corpus, ['}','$','_','<','\\ufeff'])\n",
    "print(f'Removed {n_removed} chars')\n",
    "\n",
    "# After removing the chars, re-create the mappings\n",
    "char_to_idx, idx_to_char = charnn.char_maps(corpus)"
   ]
  },
  {
   "cell_type": "markdown",
   "metadata": {},
   "source": [
    "The next thing we need is an **embedding** of the chracters.\n",
    "An embedding is a representation of each token from the sequence as a tensor.\n",
    "For a char-level RNN, our tokens will be chars and we can thus use the simplest possible embedding: encode each char as a **one-hot** tensor. In other words, each char will be represented\n",
    "as a tensor whos length is the total number of unique chars (`V`) which contains all zeros except at the index\n",
    "corresponding to that specific char.\n",
    "\n",
    "**TODO**: Implement the functions `chars_to_onehot()` and `onehot_to_chars()` in the `hw3/charnn.py` module."
   ]
  },
  {
   "cell_type": "code",
   "execution_count": 7,
   "metadata": {},
   "outputs": [
    {
     "name": "stdout",
     "output_type": "stream",
     "text": [
      "{'\\n': 0, ' ': 1, '!': 2, '\"': 3, '&': 4, \"'\": 5, '(': 6, ')': 7, ',': 8, '-': 9, '.': 10, '0': 11, '1': 12, '2': 13, '3': 14, '4': 15, '5': 16, '6': 17, '7': 18, '8': 19, '9': 20, ':': 21, ';': 22, '?': 23, 'A': 24, 'B': 25, 'C': 26, 'D': 27, 'E': 28, 'F': 29, 'G': 30, 'H': 31, 'I': 32, 'J': 33, 'K': 34, 'L': 35, 'M': 36, 'N': 37, 'O': 38, 'P': 39, 'Q': 40, 'R': 41, 'S': 42, 'T': 43, 'U': 44, 'V': 45, 'W': 46, 'X': 47, 'Y': 48, 'Z': 49, '[': 50, ']': 51, 'a': 52, 'b': 53, 'c': 54, 'd': 55, 'e': 56, 'f': 57, 'g': 58, 'h': 59, 'i': 60, 'j': 61, 'k': 62, 'l': 63, 'm': 64, 'n': 65, 'o': 66, 'p': 67, 'q': 68, 'r': 69, 's': 70, 't': 71, 'u': 72, 'v': 73, 'w': 74, 'x': 75, 'y': 76, 'z': 77}\n",
      "brine a maiden can season her praise in.\n",
      "   \n",
      "bri\n",
      "tensor([[0, 0, 0, 0, 0, 0, 0, 0, 0, 0, 0, 0, 0, 0, 0, 0, 0, 0, 0, 0, 0, 0, 0, 0,\n",
      "         0, 0, 0, 0, 0, 0, 0, 0, 0, 0, 0, 0, 0, 0, 0, 0, 0, 0, 0, 0, 0, 0, 0, 0,\n",
      "         0, 0, 0, 0, 0, 1, 0, 0, 0, 0, 0, 0, 0, 0, 0, 0, 0, 0, 0, 0, 0, 0, 0, 0,\n",
      "         0, 0, 0, 0, 0, 0],\n",
      "        [0, 0, 0, 0, 0, 0, 0, 0, 0, 0, 0, 0, 0, 0, 0, 0, 0, 0, 0, 0, 0, 0, 0, 0,\n",
      "         0, 0, 0, 0, 0, 0, 0, 0, 0, 0, 0, 0, 0, 0, 0, 0, 0, 0, 0, 0, 0, 0, 0, 0,\n",
      "         0, 0, 0, 0, 0, 0, 0, 0, 0, 0, 0, 0, 0, 0, 0, 0, 0, 0, 0, 0, 0, 1, 0, 0,\n",
      "         0, 0, 0, 0, 0, 0],\n",
      "        [0, 0, 0, 0, 0, 0, 0, 0, 0, 0, 0, 0, 0, 0, 0, 0, 0, 0, 0, 0, 0, 0, 0, 0,\n",
      "         0, 0, 0, 0, 0, 0, 0, 0, 0, 0, 0, 0, 0, 0, 0, 0, 0, 0, 0, 0, 0, 0, 0, 0,\n",
      "         0, 0, 0, 0, 0, 0, 0, 0, 0, 0, 0, 0, 1, 0, 0, 0, 0, 0, 0, 0, 0, 0, 0, 0,\n",
      "         0, 0, 0, 0, 0, 0]], dtype=torch.int8)\n"
     ]
    }
   ],
   "source": [
    "# Wrap the actual embedding functions for calling convenience\n",
    "print(char_to_idx)\n",
    "def embed(text):\n",
    "    return charnn.chars_to_onehot(text, char_to_idx)\n",
    "\n",
    "def unembed(embedding):\n",
    "    return charnn.onehot_to_chars(embedding, idx_to_char)\n",
    "\n",
    "text_snippet = corpus[3104:3148]\n",
    "print(text_snippet)\n",
    "print(text_snippet[0:3])\n",
    "print(embed(text_snippet[0:3]))\n",
    "\n",
    "test.assertEqual(text_snippet, unembed(embed(text_snippet)))\n",
    "test.assertEqual(embed(text_snippet).dtype, torch.int8)"
   ]
  },
  {
   "cell_type": "markdown",
   "metadata": {},
   "source": [
    "### Dataset Creation\n",
    "<a id=part1_4></a>"
   ]
  },
  {
   "cell_type": "markdown",
   "metadata": {},
   "source": [
    "We wish to train our model to generate text by constantly predicting what the next char should be based on the past.\n",
    "To that end we'll need to train our recurrent network in a way similar to a classification task. At each timestep, we input a char and set the expected output (label) to be the next char in the original sequence.\n",
    "\n",
    "We will split our corpus into shorter sequences of length `S` chars (see question below).\n",
    "Each **sample** we provide our model with will therefore be a tensor of shape `(S,V)` where `V` is the embedding dimension. Our model will operate sequentially on each char in the sequence.\n",
    "For each sample, we'll also need a **label**. This is simply another sequence, shifted by one char so that the label of each char is the next char in the corpus."
   ]
  },
  {
   "cell_type": "markdown",
   "metadata": {},
   "source": [
    "**TODO**: Implement the `chars_to_labelled_samples()` function in the `hw3/charnn.py` module."
   ]
  },
  {
   "cell_type": "code",
   "execution_count": 8,
   "metadata": {},
   "outputs": [
    {
     "name": "stdout",
     "output_type": "stream",
     "text": [
      "samples shape: torch.Size([99182, 64, 78])\n",
      "labels shape: torch.Size([99182, 64])\n"
     ]
    }
   ],
   "source": [
    "# Create dataset of sequences\n",
    "seq_len = 64\n",
    "vocab_len = len(char_to_idx)\n",
    "\n",
    "# Create labelled samples\n",
    "samples, labels = charnn.chars_to_labelled_samples(corpus, char_to_idx, seq_len, device)\n",
    "print(f'samples shape: {samples.shape}')\n",
    "print(f'labels shape: {labels.shape}')\n",
    "\n",
    "# Test shapes\n",
    "num_samples = (len(corpus) - 1) // seq_len\n",
    "test.assertEqual(samples.shape, (num_samples, seq_len, vocab_len))\n",
    "test.assertEqual(labels.shape, (num_samples, seq_len))\n",
    "\n",
    "# Test content\n",
    "for _ in range(1000):\n",
    "    # random sample\n",
    "    i = np.random.randint(num_samples, size=(1,))[0]\n",
    "    # Compare to corpus\n",
    "    test.assertEqual(unembed(samples[i]), corpus[i*seq_len:(i+1)*seq_len], msg=f\"content mismatch in sample {i}\")\n",
    "    # Compare to labels\n",
    "    sample_text = unembed(samples[i])\n",
    "    label_text = str.join('', [idx_to_char[j.item()] for j in labels[i]])\n",
    "    test.assertEqual(sample_text[1:], label_text[0:-1], msg=f\"label mismatch in sample {i}\")"
   ]
  },
  {
   "cell_type": "markdown",
   "metadata": {},
   "source": [
    "Let's print a few consecutive samples. You should see that the text continues between them."
   ]
  },
  {
   "cell_type": "code",
   "execution_count": 9,
   "metadata": {},
   "outputs": [
    {
     "name": "stdout",
     "output_type": "stream",
     "text": [
      "sample [15035]:\n",
      "\tnd with a hideous crash Takes prisoner Pyrrhus' ear. For l\n",
      "sample [15036]:\n",
      "\to! his sword, Which was declining on the milky head\n",
      "sample [15037]:\n",
      "\tOf reverend Priam, seem'd i' th' air to stick. So, as a pa\n",
      "sample [15038]:\n",
      "\tinted tyrant, Pyrrhus stood, And, like a neutral to his wi\n",
      "sample [15039]:\n",
      "\tll and matter, Did nothing. But, as we often see, ag\n"
     ]
    }
   ],
   "source": [
    "import re\n",
    "import random\n",
    "\n",
    "i = random.randrange(num_samples-5)\n",
    "for i in range(i, i+5):\n",
    "    s = re.sub(r'\\s+', ' ', unembed(samples[i])).strip()\n",
    "    print(f'sample [{i}]:\\n\\t{s}')"
   ]
  },
  {
   "cell_type": "markdown",
   "metadata": {},
   "source": [
    "As usual, instead of feeding one sample at a time into our model's forward we'll work with **batches** of samples. This means that at every timestep, our model will operate on a batch of chars that are from **different sequences**.\n",
    "Effectively this will allow us to parallelize training our model by dong matrix-matrix multiplications\n",
    "instead of matrix-vector during the forward pass."
   ]
  },
  {
   "cell_type": "markdown",
   "metadata": {},
   "source": [
    "An important nuance is that we need the batches to be **contiguous**, i.e. sample $k$ in batch $j$ should continue sample $k$ from batch $j-1$.\n",
    "The following figure illustrates this:\n",
    "\n",
    "<img src=\"imgs/rnn-batching.png\"/>\n",
    "\n",
    "If we naïvely take consecutive samples into batches, e.g. `[0,1,...,B-1]`, `[B,B+1,...,2B-1]` and so on, we won't have contiguous\n",
    "sequences at the same index between adjacent batches.\n",
    "\n",
    "To accomplish this we need to tell our `DataLoader` which samples to combine together into one batch.\n",
    "We do this by implementing a custom PyTorch `Sampler`, and providing it to our `DataLoader`."
   ]
  },
  {
   "cell_type": "markdown",
   "metadata": {},
   "source": [
    "**TODO**: Implement the `SequenceBatchSampler` class in the `hw3/charnn.py` module."
   ]
  },
  {
   "cell_type": "code",
   "execution_count": 10,
   "metadata": {},
   "outputs": [
    {
     "name": "stdout",
     "output_type": "stream",
     "text": [
      "sampler_idx =\n",
      " [0, 3, 6, 9, 12, 15, 18, 21, 24, 27, 1, 4, 7, 10, 13, 16, 19, 22, 25, 28, 2, 5, 8, 11, 14, 17, 20, 23, 26, 29]\n"
     ]
    }
   ],
   "source": [
    "from hw3.charnn import SequenceBatchSampler\n",
    "\n",
    "sampler = SequenceBatchSampler(dataset=range(32), batch_size=10)\n",
    "sampler_idx = list(sampler)\n",
    "print('sampler_idx =\\n', sampler_idx)\n",
    "\n",
    "# Test the Sampler\n",
    "test.assertEqual(len(sampler_idx), 30)\n",
    "batch_idx = np.array(sampler_idx).reshape(-1, 10)\n",
    "for k in range(10):\n",
    "    test.assertEqual(np.diff(batch_idx[:, k], n=2).item(), 0)"
   ]
  },
  {
   "cell_type": "markdown",
   "metadata": {},
   "source": [
    "Even though we're working with sequences, we can still use the standard PyTorch `Dataset`/`DataLoader` combo.\n",
    "For the dataset we can use a built-in class, `TensorDataset` to return tuples of `(sample, label)`\n",
    "from the `samples` and `labels` tensors we created above.\n",
    "The `DataLoader` will be provided with our custom `Sampler` so that it generates appropriate batches."
   ]
  },
  {
   "cell_type": "code",
   "execution_count": 11,
   "metadata": {},
   "outputs": [],
   "source": [
    "import torch.utils.data\n",
    "\n",
    "# Create DataLoader returning batches of samples.\n",
    "batch_size = 32\n",
    "\n",
    "ds_corpus = torch.utils.data.TensorDataset(samples, labels)\n",
    "sampler_corpus = SequenceBatchSampler(ds_corpus, batch_size)\n",
    "dl_corpus = torch.utils.data.DataLoader(ds_corpus, batch_size=batch_size, sampler=sampler_corpus, shuffle=False)"
   ]
  },
  {
   "cell_type": "markdown",
   "metadata": {},
   "source": [
    "Let's see what that gives us:"
   ]
  },
  {
   "cell_type": "code",
   "execution_count": 12,
   "metadata": {},
   "outputs": [
    {
     "name": "stdout",
     "output_type": "stream",
     "text": [
      "num batches: 3100\n",
      "shape of a batch of samples: torch.Size([32, 64, 78])\n",
      "shape of a batch of labels: torch.Size([32, 64])\n"
     ]
    }
   ],
   "source": [
    "print(f'num batches: {len(dl_corpus)}')\n",
    "\n",
    "x0, y0 = next(iter(dl_corpus))\n",
    "print(f'shape of a batch of samples: {x0.shape}')\n",
    "print(f'shape of a batch of labels: {y0.shape}')"
   ]
  },
  {
   "cell_type": "markdown",
   "metadata": {},
   "source": [
    "Now lets look at the same sample index from multiple batches taken from our corpus."
   ]
  },
  {
   "cell_type": "code",
   "execution_count": 13,
   "metadata": {},
   "outputs": [
    {
     "name": "stdout",
     "output_type": "stream",
     "text": [
      "=== batch 0, sample 2 (torch.Size([64, 78])): ===\n",
      "\tdo not scorn me; do not, Phebe. Say that you love me not; bu\n",
      "=== batch 1, sample 2 (torch.Size([64, 78])): ===\n",
      "\tt say not so In bitterness. The common executioner, Whos\n",
      "=== batch 2, sample 2 (torch.Size([64, 78])): ===\n",
      "\te heart th' accustom'd sight of death makes hard, Falls not\n",
      "=== batch 3, sample 2 (torch.Size([64, 78])): ===\n",
      "\tthe axe upon the humbled neck But first begs pardon. Will yo\n",
      "=== batch 4, sample 2 (torch.Size([64, 78])): ===\n",
      "\tu sterner be Than he that dies and lives by bloody drops?\n"
     ]
    }
   ],
   "source": [
    "# Check that sentences in in same index of different batches complete each other.\n",
    "k = random.randrange(batch_size)\n",
    "for j, (X, y) in enumerate(dl_corpus,):\n",
    "    print(f'=== batch {j}, sample {k} ({X[k].shape}): ===')\n",
    "    s = re.sub(r'\\s+', ' ', unembed(X[k])).strip()\n",
    "    print(f'\\t{s}')\n",
    "    if j==4: break"
   ]
  },
  {
   "cell_type": "markdown",
   "metadata": {},
   "source": [
    "### Model Implementation\n",
    "<a id=part1_5></a>"
   ]
  },
  {
   "cell_type": "markdown",
   "metadata": {},
   "source": [
    "Finally, our data set is ready so we can focus on our model.\n",
    "\n",
    "We'll implement here is a multilayer gated recurrent unit (GRU) model, with dropout.\n",
    "This model is a type of RNN which performs similar to the well-known LSTM model,\n",
    "but it's somewhat easier to train because it has less parameters.\n",
    "We'll modify the regular GRU slightly by applying dropout to\n",
    "the hidden states passed between layers of the model.\n",
    "\n",
    "The model accepts an input $\\mat{X}\\in\\set{R}^{S\\times V}$ containing a sequence of embedded chars.\n",
    "It returns an output $\\mat{Y}\\in\\set{R}^{S\\times V}$ of predictions for the next char and the final hidden state\n",
    "$\\mat{H}\\in\\set{R}^{L\\times H}$. Here $S$ is the sequence length, $V$ is the vocabulary size (number of unique chars), $L$ is the number of layers in the model and $H$ is the hidden dimension."
   ]
  },
  {
   "cell_type": "markdown",
   "metadata": {},
   "source": [
    "Mathematically, the model's forward function at layer $k\\in[1,L]$ and timestep $t\\in[1,S]$ can be described as\n",
    "\n",
    "$$\n",
    "\\begin{align}\n",
    "\\vec{z_t}^{[k]} &= \\sigma\\left(\\vec{x}^{[k]}_t {\\mattr{W}_{\\mathrm{xz}}}^{[k]} +\n",
    "    \\vec{h}_{t-1}^{[k]} {\\mattr{W}_{\\mathrm{hz}}}^{[k]} + \\vec{b}_{\\mathrm{z}}^{[k]}\\right) \\\\\n",
    "\\vec{r_t}^{[k]} &= \\sigma\\left(\\vec{x}^{[k]}_t {\\mattr{W}_{\\mathrm{xr}}}^{[k]} +\n",
    "    \\vec{h}_{t-1}^{[k]} {\\mattr{W}_{\\mathrm{hr}}}^{[k]} + \\vec{b}_{\\mathrm{r}}^{[k]}\\right) \\\\\n",
    "\\vec{g_t}^{[k]} &= \\tanh\\left(\\vec{x}^{[k]}_t {\\mattr{W}_{\\mathrm{xg}}}^{[k]} +\n",
    "    (\\vec{r_t}^{[k]}\\odot\\vec{h}_{t-1}^{[k]}) {\\mattr{W}_{\\mathrm{hg}}}^{[k]} + \\vec{b}_{\\mathrm{g}}^{[k]}\\right) \\\\\n",
    "\\vec{h_t}^{[k]} &= \\vec{z}^{[k]}_t \\odot \\vec{h}^{[k]}_{t-1} + \\left(1-\\vec{z}^{[k]}_t\\right)\\odot \\vec{g_t}^{[k]}\n",
    "\\end{align}\n",
    "$$"
   ]
  },
  {
   "cell_type": "markdown",
   "metadata": {},
   "source": [
    "The input to each layer is,\n",
    "$$\n",
    "\\mat{X}^{[k]} =\n",
    "\\begin{bmatrix}\n",
    "    {\\vec{x}_1}^{[k]} \\\\ \\vdots \\\\ {\\vec{x}_S}^{[k]}\n",
    "\\end{bmatrix} \n",
    "=\n",
    "\\begin{cases}\n",
    "    \\mat{X} & \\mathrm{if} ~k = 1~ \\\\\n",
    "    \\mathrm{dropout}_p \\left(\n",
    "    \\begin{bmatrix}\n",
    "        {\\vec{h}_1}^{[k-1]} \\\\ \\vdots \\\\ {\\vec{h}_S}^{[k-1]}\n",
    "    \\end{bmatrix} \\right) & \\mathrm{if} ~1 < k \\leq L+1~\n",
    "\\end{cases}.\n",
    "$$"
   ]
  },
  {
   "cell_type": "markdown",
   "metadata": {},
   "source": [
    "The output of the entire model is then,\n",
    "$$\n",
    "\\mat{Y} = \\mat{X}^{[L+1]} {\\mattr{W}_{\\mathrm{hy}}} + \\mat{B}_{\\mathrm{y}}\n",
    "$$"
   ]
  },
  {
   "cell_type": "markdown",
   "metadata": {},
   "source": [
    "and the final hidden state is\n",
    "$$\n",
    "\\mat{H} = \n",
    "\\begin{bmatrix}\n",
    "    {\\vec{h}_S}^{[1]} \\\\ \\vdots \\\\ {\\vec{h}_S}^{[L]}\n",
    "\\end{bmatrix}.\n",
    "$$"
   ]
  },
  {
   "cell_type": "markdown",
   "metadata": {},
   "source": [
    "Notes:\n",
    "- $t\\in[1,S]$ is the timestep, i.e. the current position within the sequence of each sample.\n",
    "- $\\vec{x}_t^{[k]}$ is the input of layer $k$ at timestep $t$, respectively.\n",
    "- The outputs of the **last layer** $\\vec{y}_t^{[L]}$, are the predicted next characters for every input char.\n",
    "  These are similar to class scores in classification tasks.\n",
    "- The hidden states at the **last timestep**, $\\vec{h}_S^{[k]}$, are the final hidden state returned from the model.\n",
    "- $\\sigma(\\cdot)$ is the sigmoid function, i.e. $\\sigma(\\vec{z}) = 1/(1+e^{-\\vec{z}})$ which returns values in $(0,1)$.\n",
    "- $\\tanh(\\cdot)$ is the hyperbolic tangent, i.e. $\\tanh(\\vec{z}) = (e^{2\\vec{z}}-1)/(e^{2\\vec{z}}+1)$ which returns values in $(-1,1)$.\n",
    "- $\\vec{h_t}^{[k]}$ is the hidden state of layer $k$ at time $t$. This can be thought of as the memory of that layer.\n",
    "- $\\vec{g_t}^{[k]}$ is the candidate hidden state for time $t+1$.\n",
    "- $\\vec{z_t}^{[k]}$ is known as the update gate. It combines the previous state with the input to determine how much the current state will be combined with the new candidate state. For example, if $\\vec{z_t}^{[k]}=\\vec{1}$ then the current input has no effect on the output.\n",
    "- $\\vec{r_t}^{[k]}$ is known as the reset gate. It combines the previous state with the input to determine how much of the previous state will affect the current state candidate. For example if $\\vec{r_t}^{[k]}=\\vec{0}$ the previous state has no effect on the current candidate state."
   ]
  },
  {
   "cell_type": "markdown",
   "metadata": {},
   "source": [
    "Here's a graphical representation of the GRU's forward pass at each timestep. The $\\vec{\\tilde{h}}$ in the image is our $\\vec{g}$ (candidate next state).\n",
    "\n",
    "<img src=\"imgs/gru_cell.png\" width=\"400\"/>\n",
    "\n",
    "You can see how the reset and update gates allow the model to completely ignore it's previous state, completely ignore it's input, or any mixture of those states (since the gates are actually continuous and between $(0,1)$)."
   ]
  },
  {
   "cell_type": "markdown",
   "metadata": {},
   "source": [
    "Here's a graphical representation of the entire model.\n",
    "You can ignore the $c_t^{[k]}$ (cell state) variables (which are relevant for LSTM models).\n",
    "Our model has only the hidden state, $h_t^{[k]}$. Also notice that we added dropout between layers (i.e., on the up arrows).\n",
    "\n",
    "<img src=\"imgs/lstm_model.png\" />\n",
    "\n",
    "The purple tensors are inputs (a sequence and initial hidden state per layer), and the green tensors are outputs (another sequence and final hidden state per layer). Each blue block implements the above forward equations.\n",
    "Blocks that are on the same vertical level are at the same layer, and therefore share parameters."
   ]
  },
  {
   "cell_type": "markdown",
   "metadata": {},
   "source": [
    "**TODO**: Implement the `MultilayerGRU` class in the `hw3/charnn.py` module.\n",
    "\n",
    "Notes:\n",
    "- You'll need to handle input **batches** now.\n",
    "  The math is identical to the above, but all the tensors will have an extra batch\n",
    "  dimension as their first dimension.\n",
    "- Use the diagram above to help guide your implementation.\n",
    "  It will help you visualize what shapes to returns where, etc.\n"
   ]
  },
  {
   "cell_type": "code",
   "execution_count": 24,
   "metadata": {},
   "outputs": [
    {
     "name": "stdout",
     "output_type": "stream",
     "text": [
      "MultilayerGRU(\n",
      "  (Layer0): GRULayer(\n",
      "    (Linear_Wxz): Linear(in_features=78, out_features=256, bias=True)\n",
      "    (Linear_Wxr): Linear(in_features=78, out_features=256, bias=False)\n",
      "    (Linear_Wxg): Linear(in_features=78, out_features=256, bias=True)\n",
      "    (Linear_Whz): Linear(in_features=256, out_features=256, bias=False)\n",
      "    (Linear_Whr): Linear(in_features=256, out_features=256, bias=True)\n",
      "    (Linear_Whg): Linear(in_features=256, out_features=256, bias=False)\n",
      "  )\n",
      "  (Layer1): GRULayer(\n",
      "    (Linear_Wxz): Linear(in_features=256, out_features=256, bias=True)\n",
      "    (Linear_Wxr): Linear(in_features=256, out_features=256, bias=False)\n",
      "    (Linear_Wxg): Linear(in_features=256, out_features=256, bias=True)\n",
      "    (Linear_Whz): Linear(in_features=256, out_features=256, bias=False)\n",
      "    (Linear_Whr): Linear(in_features=256, out_features=256, bias=True)\n",
      "    (Linear_Whg): Linear(in_features=256, out_features=256, bias=False)\n",
      "  )\n",
      "  (Layer2): GRULayer(\n",
      "    (Linear_Wxz): Linear(in_features=256, out_features=256, bias=True)\n",
      "    (Linear_Wxr): Linear(in_features=256, out_features=256, bias=False)\n",
      "    (Linear_Wxg): Linear(in_features=256, out_features=256, bias=True)\n",
      "    (Linear_Whz): Linear(in_features=256, out_features=256, bias=False)\n",
      "    (Linear_Whr): Linear(in_features=256, out_features=256, bias=True)\n",
      "    (Linear_Whg): Linear(in_features=256, out_features=256, bias=False)\n",
      "  )\n",
      "  (Linear_Why): Linear(in_features=256, out_features=78, bias=True)\n",
      ")\n",
      "y.shape=torch.Size([32, 64, 78])\n",
      "h.shape=torch.Size([32, 3, 256])\n",
      "<generator object Module.parameters at 0x7fafc11e4f20>\n"
     ]
    }
   ],
   "source": [
    "in_dim = vocab_len\n",
    "h_dim = 256\n",
    "n_layers = 3\n",
    "model = charnn.MultilayerGRU(in_dim, h_dim, out_dim=in_dim, n_layers=n_layers)\n",
    "model = model.to(device)\n",
    "print(model)\n",
    "\n",
    "# Test forward pass\n",
    "y, h = model(x0.to(dtype=torch.float, device=device))\n",
    "print(f'y.shape={y.shape}')\n",
    "print(f'h.shape={h.shape}')\n",
    "print(model.parameters())\n",
    "test.assertEqual(y.shape, (batch_size, seq_len, vocab_len))\n",
    "test.assertEqual(h.shape, (batch_size, n_layers, h_dim))\n",
    "test.assertEqual(len(list(model.parameters())), 9 * n_layers + 2) "
   ]
  },
  {
   "cell_type": "markdown",
   "metadata": {},
   "source": [
    "### Generating text by sampling\n",
    "<a id=part1_6></a>"
   ]
  },
  {
   "cell_type": "markdown",
   "metadata": {},
   "source": [
    "Now that we have a model, we can implement **text generation** based on it.\n",
    "The idea is simple:\n",
    "At each timestep our model receives one char $x_t$ from the input sequence and outputs scores $y_t$\n",
    "for what the next char should be.\n",
    "We'll convert these scores into a probability over each of the possible chars.\n",
    "In other words, for each input char $x_t$ we create a probability distribution for the next char\n",
    "conditioned on the current one and the state of the model (representing all previous inputs):\n",
    "$$p(x_{t+1}|x_t, \\vec{h}_t).$$\n",
    "\n",
    "Once we have such a distribution, we'll sample a char from it.\n",
    "This will be the first char of our generated sequence.\n",
    "Now we can feed this new char into the model, create another distribution, sample the next char and so on.\n",
    "Note that it's crucial to propagate the hidden state when sampling."
   ]
  },
  {
   "cell_type": "markdown",
   "metadata": {},
   "source": [
    "The important point however is how to create the distribution from the scores.\n",
    "One way, as we saw in previous ML tasks, is to use the softmax function.\n",
    "However, a drawback of softmax is that it can generate very diffuse (more uniform) distributions if the score values are very similar. When sampling, we would prefer to control the distributions and make them less uniform to increase the chance of sampling the char(s) with the highest scores compared to the others.\n",
    "\n",
    "To control the variance of the distribution, a common trick is to add a hyperparameter $T$, known as the \n",
    "*temperature* to the softmax function. The class scores are simply scaled by $T$ before softmax is applied:\n",
    "$$\n",
    "\\mathrm{softmax}_T(\\vec{y}) = \\frac{e^{\\vec{y}/T}}{\\sum_k e^{y_k/T}}\n",
    "$$\n",
    "\n",
    "A low $T$ will result in less uniform distributions and vice-versa."
   ]
  },
  {
   "cell_type": "markdown",
   "metadata": {},
   "source": [
    "**TODO**: Implement the `hot_softmax()` function in the `hw3/charnn.py` module."
   ]
  },
  {
   "cell_type": "code",
   "execution_count": 25,
   "metadata": {},
   "outputs": [
    {
     "data": {
      "image/png": "[encoded data removed]",
      "text/plain": [
       "<Figure size 1080x360 with 1 Axes>"
      ]
     },
     "metadata": {
      "needs_background": "light"
     },
     "output_type": "display_data"
    }
   ],
   "source": [
    "scores = y[0,0,:].detach()\n",
    "_, ax = plt.subplots(figsize=(15,5))\n",
    "\n",
    "for t in reversed([0.3, 0.5, 1.0, 100]):\n",
    "    ax.plot(charnn.hot_softmax(scores, temperature=t).cpu().numpy(), label=f'T={t}')\n",
    "ax.set_xlabel('$x_{t+1}$')\n",
    "ax.set_ylabel('$p(x_{t+1}|x_t)$')\n",
    "ax.legend()\n",
    "\n",
    "uniform_proba = 1/len(char_to_idx)\n",
    "uniform_diff = torch.abs(charnn.hot_softmax(scores, temperature=100) - uniform_proba)\n",
    "test.assertTrue(torch.all(uniform_diff < 1e-4))"
   ]
  },
  {
   "cell_type": "markdown",
   "metadata": {},
   "source": [
    "**TODO**: Implement the `generate_from_model()` function in the `hw3/charnn.py` module."
   ]
  },
  {
   "cell_type": "code",
   "execution_count": 26,
   "metadata": {},
   "outputs": [
    {
     "name": "stdout",
     "output_type": "stream",
     "text": [
      "foobar9S.yZ)jxT[Qq([VrhA]\n",
      "W;LVCEPxwLoS-fGEs)RR0QEn\n",
      "foobar1R.sF3.q:A1WE&]D'XlaVR8C05K\n",
      "Ml\n",
      "yOS-nXKqg.khT\n",
      "foobarCWMg0xz,J2qvc:abpXh(Pej7a'2B2c[vsKszodicFfAd\n"
     ]
    }
   ],
   "source": [
    "for _ in range(3):\n",
    "    text = charnn.generate_from_model(model, \"foobar\", 50, (char_to_idx, idx_to_char), T=0.5)\n",
    "    print(text)\n",
    "    test.assertEqual(len(text), 50)"
   ]
  },
  {
   "cell_type": "markdown",
   "metadata": {},
   "source": [
    "### Training\n",
    "<a id=part1_7></a>"
   ]
  },
  {
   "cell_type": "markdown",
   "metadata": {},
   "source": [
    "To train this model, we'll calculate the loss at each time step by comparing the predicted char to\n",
    "the actual char from our label. We can use cross entropy since per char it's similar to a classification problem.\n",
    "We'll then sum the losses over the sequence and back-propagate the gradients though time.\n",
    "Notice that the back-propagation algorithm will \"visit\" each layer's parameter tensors multiple times,\n",
    "so we'll accumulate gradients in parameters of the blocks. Luckily `autograd` will handle this part for us."
   ]
  },
  {
   "cell_type": "markdown",
   "metadata": {},
   "source": [
    "As usual, the first step of training will be to try and **overfit** a large model (many parameters) to a tiny dataset.\n",
    "Again, this is to ensure the model and training code are implemented correctly, i.e. that the model can learn.\n",
    "\n",
    "For a generative model such as this, overfitting is slightly trickier than for for classification.\n",
    "What we'll aim to do is to get our model to **memorize** a specific sequence of chars, so that when given the first\n",
    "char in the sequence it will immediately spit out the rest of the sequence verbatim.\n",
    "\n",
    "Let's create a tiny dataset to memorize."
   ]
  },
  {
   "cell_type": "code",
   "execution_count": 27,
   "metadata": {},
   "outputs": [
    {
     "name": "stdout",
     "output_type": "stream",
     "text": [
      "Text to \"memorize\":\n",
      "\n",
      "TRAM. What would you have?\n",
      "  HELENA. Something; and scarce so much; nothing, indeed.\n",
      "    I would not tell you what I would, my lord.\n",
      "    Faith, yes:\n",
      "    Strangers and foes do sunder and not kiss.\n",
      "  BERTRAM. I pray you, stay not, but in haste to horse.\n",
      "  HE\n"
     ]
    }
   ],
   "source": [
    "# Pick a tiny subset of the dataset\n",
    "subset_start, subset_end = 1001, 1005\n",
    "ds_corpus_ss = torch.utils.data.Subset(ds_corpus, range(subset_start, subset_end))\n",
    "batch_size_ss = 1\n",
    "sampler_ss = SequenceBatchSampler(ds_corpus_ss, batch_size=batch_size_ss)\n",
    "dl_corpus_ss = torch.utils.data.DataLoader(ds_corpus_ss, batch_size_ss, sampler=sampler_ss, shuffle=False)\n",
    "\n",
    "# Convert subset to text\n",
    "subset_text = ''\n",
    "for i in range(subset_end - subset_start):\n",
    "    subset_text += unembed(ds_corpus_ss[i][0])\n",
    "print(f'Text to \"memorize\":\\n\\n{subset_text}')"
   ]
  },
  {
   "cell_type": "markdown",
   "metadata": {},
   "source": [
    "Now let's implement the first part of our training code.\n",
    "\n",
    "**TODO**: Implement the `train_epoch()` and `train_batch()` methods of the `RNNTrainer` class in the `hw3/training.py` module. \n",
    "You must think about how to correctly handle the hidden state of the model between batches and epochs for this specific task (i.e. text generation)."
   ]
  },
  {
   "cell_type": "code",
   "execution_count": 28,
   "metadata": {},
   "outputs": [
    {
     "name": "stdout",
     "output_type": "stream",
     "text": [
      "\n",
      "Epoch #1: Avg. loss = 3.838, Accuracy = 17.58%\n",
      "Twn       a    a ta      a  t   t ta     ttt   t  n t       t  a t     t  a tt   t   ta    tat  st       a at  t      tat t a  t  a t  ta   ttt          t      at t    t  a      t a     ta t t    t    a t  a           ta t tt  t      at       t ata t  tt  \n",
      "\n",
      "Epoch #10: Avg. loss = 1.649, Accuracy = 52.34%\n",
      "T.\n",
      "    aat ind ind ind ind ind ind ind ind ind ind ind ind ind ind ind ind ind ind ind ind ind ind ind ind ind ind not ind soes.\n",
      "    at would you hand you hand you hand you hand you hand you hand you hand yould you hand you hand you hand you hand you hand \n",
      "\n",
      "Epoch #20: Avg. loss = 0.134, Accuracy = 98.05%\n",
      "TRAM. What would you have?\n",
      "  HELENA. Something; and scarce so much; nothing, indeed.\n",
      "    I would, my lord.\n",
      "    Faith, yes:\n",
      "    Strangers and foes do sunder and not kiss.\n",
      "    Strangers and foes do sunder and not kiss.\n",
      "    Strangers and foes do sunder and no\n",
      "\n",
      "Epoch #30: Avg. loss = 0.011, Accuracy = 100.00%\n",
      "TRAM. What would you have?\n",
      "  HELENA. Something; and scarce so much; nothing, indeed.\n",
      "    I would not tell you what I would, my lord.\n",
      "    Faith, yes:\n",
      "    Strangers and foes do sunder and not kiss.\n",
      "  BERTRAM. I pray you, stay not, but in haste to horse.\n",
      "  HE\n"
     ]
    }
   ],
   "source": [
    "import torch.nn as nn\n",
    "import torch.optim as optim\n",
    "from hw3.training import RNNTrainer\n",
    "\n",
    "torch.manual_seed(42)\n",
    "\n",
    "lr = 0.01\n",
    "num_epochs = 500\n",
    "\n",
    "in_dim = vocab_len\n",
    "h_dim = 128\n",
    "n_layers = 2\n",
    "loss_fn = nn.CrossEntropyLoss()\n",
    "model = charnn.MultilayerGRU(in_dim, h_dim, out_dim=in_dim, n_layers=n_layers).to(device)\n",
    "optimizer = optim.Adam(model.parameters(), lr=lr)\n",
    "trainer = RNNTrainer(model, loss_fn, optimizer, device)\n",
    "\n",
    "for epoch in range(num_epochs):\n",
    "    epoch_result = trainer.train_epoch(dl_corpus_ss, verbose=False)\n",
    "    \n",
    "    # Every X epochs, we'll generate a sequence starting from the first char in the first sequence\n",
    "    # to visualize how/if/what the model is learning.\n",
    "    if epoch == 0 or (epoch+1) % 10 == 0:\n",
    "        avg_loss = np.mean(epoch_result.losses)\n",
    "        accuracy = np.mean(epoch_result.accuracy)\n",
    "        print(f'\\nEpoch #{epoch+1}: Avg. loss = {avg_loss:.3f}, Accuracy = {accuracy:.2f}%')\n",
    "        \n",
    "        generated_sequence = charnn.generate_from_model(model, subset_text[0],\n",
    "                                                        seq_len*(subset_end-subset_start),\n",
    "                                                        (char_to_idx,idx_to_char), T=0.1)\n",
    "        \n",
    "        # Stop if we've successfully memorized the small dataset.\n",
    "        print(generated_sequence)\n",
    "        if generated_sequence == subset_text:\n",
    "            break\n",
    "\n",
    "# Test successful overfitting\n",
    "test.assertGreater(epoch_result.accuracy, 99)\n",
    "test.assertEqual(generated_sequence, subset_text)"
   ]
  },
  {
   "cell_type": "markdown",
   "metadata": {},
   "source": [
    "OK, so training works - we can memorize a short sequence.\n",
    "We'll now train a much larger model on our large dataset. You'll need a GPU for this part.\n",
    "\n",
    "First, lets set up our dataset and models for training.\n",
    "We'll split our corpus into 90% train and 10% test-set.\n",
    "Also, we'll use a learning-rate scheduler to control the learning rate during training."
   ]
  },
  {
   "cell_type": "markdown",
   "metadata": {},
   "source": [
    "**TODO**: Set the hyperparameters in the `part1_rnn_hyperparams()` function of the `hw3/answers.py` module."
   ]
  },
  {
   "cell_type": "code",
   "execution_count": 29,
   "metadata": {},
   "outputs": [
    {
     "name": "stdout",
     "output_type": "stream",
     "text": [
      "hyperparams:\n",
      " {'batch_size': 200, 'seq_len': 50, 'h_dim': 256, 'n_layers': 3, 'dropout': 0.1, 'learn_rate': 0.001, 'lr_sched_factor': 0.9, 'lr_sched_patience': 4}\n",
      "Train: 571 batches, 5710000 chars\n",
      "Test:   63 batches,  630000 chars\n"
     ]
    }
   ],
   "source": [
    "from hw3.answers import part1_rnn_hyperparams\n",
    "\n",
    "hp = part1_rnn_hyperparams()\n",
    "print('hyperparams:\\n', hp)\n",
    "\n",
    "### Dataset definition\n",
    "vocab_len = len(char_to_idx)\n",
    "batch_size = hp['batch_size']\n",
    "seq_len = hp['seq_len']\n",
    "train_test_ratio = 0.9\n",
    "num_samples = (len(corpus) - 1) // seq_len\n",
    "num_train = int(train_test_ratio * num_samples)\n",
    "\n",
    "samples, labels = charnn.chars_to_labelled_samples(corpus, char_to_idx, seq_len, device)\n",
    "\n",
    "ds_train = torch.utils.data.TensorDataset(samples[:num_train], labels[:num_train])\n",
    "sampler_train = SequenceBatchSampler(ds_train, batch_size)\n",
    "dl_train = torch.utils.data.DataLoader(ds_train, batch_size, shuffle=False, sampler=sampler_train, drop_last=True)\n",
    "\n",
    "ds_test = torch.utils.data.TensorDataset(samples[num_train:], labels[num_train:])\n",
    "sampler_test = SequenceBatchSampler(ds_test, batch_size)\n",
    "dl_test = torch.utils.data.DataLoader(ds_test, batch_size, shuffle=False, sampler=sampler_test, drop_last=True)\n",
    "\n",
    "print(f'Train: {len(dl_train):3d} batches, {len(dl_train)*batch_size*seq_len:7d} chars')\n",
    "print(f'Test:  {len(dl_test):3d} batches, {len(dl_test)*batch_size*seq_len:7d} chars')\n",
    "\n",
    "### Training definition\n",
    "in_dim = out_dim = vocab_len\n",
    "checkpoint_file = 'checkpoints/rnn'\n",
    "num_epochs = 50\n",
    "early_stopping = 5\n",
    "\n",
    "model = charnn.MultilayerGRU(in_dim, hp['h_dim'], out_dim, hp['n_layers'], hp['dropout'])\n",
    "loss_fn = nn.CrossEntropyLoss()\n",
    "optimizer = optim.Adam(model.parameters(), lr=hp['learn_rate'])\n",
    "scheduler = optim.lr_scheduler.ReduceLROnPlateau(\n",
    "    optimizer, mode='max', factor=hp['lr_sched_factor'], patience=hp['lr_sched_patience'], verbose=True\n",
    ")\n",
    "trainer = RNNTrainer(model, loss_fn, optimizer, device)"
   ]
  },
  {
   "cell_type": "markdown",
   "metadata": {},
   "source": [
    "The code blocks below will train the model and save checkpoints containing the training state and the best model parameters to a file. This allows you to stop training and resume it later from where you left.\n",
    "\n",
    "Note that you can use the `main.py` script provided within the assignment folder to run this notebook from the command line as if it were a python script by using the `run-nb` subcommand. This allows you to train your model using this notebook without starting jupyter. You can combine this with `srun` or `sbatch` to run the notebook with a GPU on the course servers."
   ]
  },
  {
   "cell_type": "markdown",
   "metadata": {},
   "source": [
    "**TODO**:\n",
    "- Implement the `fit()` method of the `Trainer` class. You can reuse the relevant implementation parts from HW2, but make sure to implement early stopping and checkpoints.\n",
    "- Implement the `test_epoch()` and `test_batch()` methods of the `RNNTrainer` class in the `hw3/training.py` module.\n",
    "- Run the following block to train.\n",
    "- When training is done and you're satisfied with the model's outputs, rename the checkpoint file to `checkpoints/rnn_final.pt`.\n",
    "  This will cause the block to skip training and instead load your saved model when running the homework submission script.\n",
    "  Note that your submission zip file will not include the checkpoint file. This is OK."
   ]
  },
  {
   "cell_type": "code",
   "execution_count": 31,
   "metadata": {},
   "outputs": [
    {
     "name": "stdout",
     "output_type": "stream",
     "text": [
      "ACT I. SCone every wife to Lord Clowna. Be thry at the seeds, swore all.\n",
      "Fal. Brutus' friendship.\n",
      "\n",
      "S\n",
      "*** Loading checkpoint file checkpoints/rnn.pt\n",
      "--- EPOCH 1/50 ---\n",
      "train_batch (Avg. Loss 1.290, Accuracy 61.0): 100%|██████████| 571/571 [02:14<00:00,  4.24it/s]\n",
      "test_batch (Avg. Loss 1.217, Accuracy 62.0): 100%|██████████| 63/63 [00:04<00:00, 13.21it/s]\n",
      "*** Saved checkpoint checkpoints/rnn.pt at epoch 1\n",
      "ACT I. Mark thee, by my soul and not a stranger.\n",
      "\n",
      "CORIOLANUS:\n",
      "O, the matter were well process'd in t\n",
      "--- EPOCH 2/50 ---\n",
      "train_batch (Avg. Loss 1.228, Accuracy 62.4): 100%|██████████| 571/571 [02:13<00:00,  4.28it/s]\n",
      "test_batch (Avg. Loss 1.223, Accuracy 61.8): 100%|██████████| 63/63 [00:04<00:00, 13.67it/s]\n",
      "*** Saved checkpoint checkpoints/rnn.pt at epoch 2\n",
      "ACT I.\n",
      "\n",
      "                                       Enter LUCIO\n",
      "\n",
      "                                     Ent\n",
      "--- EPOCH 3/50 ---\n",
      "train_batch (Avg. Loss 1.209, Accuracy 62.8): 100%|██████████| 571/571 [02:12<00:00,  4.31it/s]\n",
      "test_batch (Avg. Loss 1.222, Accuracy 61.7): 100%|██████████| 63/63 [00:04<00:00, 13.20it/s]\n",
      "*** Saved checkpoint checkpoints/rnn.pt at epoch 3\n",
      "ACT I. A strange shrift shall be so sorry than the care of you.\n",
      "  ARTHUR. What the shows of the spir\n",
      "--- EPOCH 4/50 ---\n",
      "train_batch (Avg. Loss 1.199, Accuracy 63.1): 100%|██████████| 571/571 [02:14<00:00,  4.23it/s]\n",
      "test_batch (Avg. Loss 1.224, Accuracy 61.7): 100%|██████████| 63/63 [00:04<00:00, 13.16it/s]\n",
      "*** Saved checkpoint checkpoints/rnn.pt at epoch 4\n",
      "ACT I. Sir, what says he that dost thou stand\n",
      "  The which was slipt and such a man of this man.\n",
      "  Th\n",
      "--- EPOCH 5/50 ---\n",
      "train_batch (Avg. Loss 1.192, Accuracy 63.3): 100%|██████████| 571/571 [02:14<00:00,  4.24it/s]\n",
      "test_batch (Avg. Loss 1.223, Accuracy 61.7): 100%|██████████| 63/63 [00:04<00:00, 13.00it/s]\n",
      "*** Saved checkpoint checkpoints/rnn.pt at epoch 5\n",
      "ACT I. Scene IANS.\n",
      "\n",
      "  A COLINIUS, with his true tomb, and the Prince of Warwick\n",
      "                    \n",
      "--- EPOCH 6/50 ---\n",
      "train_batch (Avg. Loss 1.186, Accuracy 63.4): 100%|██████████| 571/571 [02:15<00:00,  4.22it/s]\n",
      "test_batch (Avg. Loss 1.221, Accuracy 61.7): 100%|██████████| 63/63 [00:04<00:00, 13.01it/s]\n",
      "*** Saved checkpoint checkpoints/rnn.pt at epoch 6\n",
      "Epoch     6: reducing learning rate of group 0 to 9.0000e-04.\n",
      "ACT I. Sceak to the palace\n",
      "\n",
      "                                               Enter SIR TOBY\n",
      "\n",
      "    I wil\n",
      "--- EPOCH 7/50 ---\n",
      "train_batch (Avg. Loss 1.179, Accuracy 63.6): 100%|██████████| 571/571 [02:15<00:00,  4.22it/s]\n",
      "test_batch (Avg. Loss 1.224, Accuracy 61.7): 100%|██████████| 63/63 [00:04<00:00, 13.17it/s]\n",
      "*** Saved checkpoint checkpoints/rnn.pt at epoch 7\n",
      "ACT I. A chamber, and being a same content to prove a prince of the  \n",
      "                              \n",
      "--- EPOCH 8/50 ---\n",
      "train_batch (Avg. Loss 1.175, Accuracy 63.7): 100%|██████████| 571/571 [02:14<00:00,  4.23it/s]\n",
      "test_batch (Avg. Loss 1.220, Accuracy 61.8): 100%|██████████| 63/63 [00:04<00:00, 13.18it/s]\n",
      "*** Saved checkpoint checkpoints/rnn.pt at epoch 8\n",
      "ACT I. SCENE II.\n",
      "The lady's Castle, and SURREY\n",
      "\n",
      "Enter the NORTHUMBERLAND, LORDS, and a SOLDIER\n",
      "\n",
      "  MA\n",
      "--- EPOCH 9/50 ---\n",
      "train_batch (Avg. Loss 1.172, Accuracy 63.8): 100%|██████████| 571/571 [02:14<00:00,  4.24it/s]\n",
      "test_batch (Avg. Loss 1.220, Accuracy 61.8): 100%|██████████| 63/63 [00:04<00:00, 13.21it/s]\n",
      "*** Saved checkpoint checkpoints/rnn.pt at epoch 9\n",
      "ACT I.\n",
      "  FIRST SENATOR. It shall have heaven to see the house of France.\n",
      "    The general sea and the\n",
      "--- EPOCH 10/50 ---\n",
      "train_batch (Avg. Loss 1.169, Accuracy 63.9): 100%|██████████| 571/571 [02:13<00:00,  4.27it/s]\n",
      "test_batch (Avg. Loss 1.218, Accuracy 61.8): 100%|██████████| 63/63 [00:04<00:00, 13.07it/s]\n",
      "*** Saved checkpoint checkpoints/rnn.pt at epoch 10\n",
      "ACT I. SCENE I.\n",
      "Before TIMON'S house\n",
      "\n",
      "Enter LUCIUS and the LORD\n",
      "\n",
      "  FIRST GENTLEMAN. Are you broke of\n",
      "--- EPOCH 11/50 ---\n",
      "train_batch (Avg. Loss 1.166, Accuracy 63.9): 100%|██████████| 571/571 [02:15<00:00,  4.21it/s]\n",
      "test_batch (Avg. Loss 1.217, Accuracy 61.8): 100%|██████████| 63/63 [00:04<00:00, 13.02it/s]\n",
      "*** Saved checkpoint checkpoints/rnn.pt at epoch 11\n",
      "Epoch    11: reducing learning rate of group 0 to 8.1000e-04.\n",
      "ACT I.\n",
      "\n",
      "                             Enter THESEUS\n",
      "\n",
      "  ANTONIO. The life I would not speak with you; \n",
      "--- EPOCH 12/50 ---\n",
      "train_batch (Avg. Loss 1.162, Accuracy 64.1): 100%|██████████| 571/571 [02:15<00:00,  4.20it/s]\n",
      "test_batch (Avg. Loss 1.212, Accuracy 62.0): 100%|██████████| 63/63 [00:04<00:00, 13.02it/s]\n",
      "*** Saved checkpoint checkpoints/rnn.pt at epoch 12\n",
      "ACT I. Master Fenton, they are sheeps as your desires.\n",
      "\n",
      "ACT II. Scene I.\n",
      "The palace\n",
      "\n",
      "Enter his son a\n",
      "--- EPOCH 13/50 ---\n",
      "train_batch (Avg. Loss 1.159, Accuracy 64.1): 100%|██████████| 571/571 [02:13<00:00,  4.29it/s]\n",
      "test_batch (Avg. Loss 1.213, Accuracy 62.0): 100%|██████████| 63/63 [00:04<00:00, 13.10it/s]\n",
      "*** Saved checkpoint checkpoints/rnn.pt at epoch 13\n",
      "ACT I.\n",
      "\n",
      "    The fair defence of this thy state pass the great son.\n",
      "                                 \n",
      "--- EPOCH 14/50 ---\n",
      "train_batch (Avg. Loss 1.157, Accuracy 64.2): 100%|██████████| 571/571 [02:11<00:00,  4.35it/s]\n",
      "test_batch (Avg. Loss 1.213, Accuracy 61.9): 100%|██████████| 63/63 [00:04<00:00, 13.70it/s]\n",
      "*** Saved checkpoint checkpoints/rnn.pt at epoch 14\n",
      "ACT I. What shall we not?\n",
      "\n",
      "                        Enter BELARIUS\n",
      "\n",
      "    I am a man of her desert and \n",
      "--- EPOCH 15/50 ---\n",
      "train_batch (Avg. Loss 1.155, Accuracy 64.2): 100%|██████████| 571/571 [02:10<00:00,  4.36it/s]\n",
      "test_batch (Avg. Loss 1.211, Accuracy 62.0): 100%|██████████| 63/63 [00:04<00:00, 13.55it/s]\n",
      "*** Saved checkpoint checkpoints/rnn.pt at epoch 15\n",
      "ACT I. Sweet Grace, thou art a true.\n",
      "\n",
      "SICINIUS:\n",
      "Come, come, sir, what are you?\n",
      "\n",
      "MENENIUS:\n",
      "I will not\n",
      "--- EPOCH 16/50 ---\n",
      "train_batch (Avg. Loss 1.153, Accuracy 64.3): 100%|██████████| 571/571 [02:08<00:00,  4.44it/s]\n",
      "test_batch (Avg. Loss 1.208, Accuracy 62.1): 100%|██████████| 63/63 [00:04<00:00, 13.73it/s]\n",
      "*** Saved checkpoint checkpoints/rnn.pt at epoch 16\n",
      "ACT I.\n",
      "                                                                                             \n",
      "--- EPOCH 17/50 ---\n",
      "train_batch (Avg. Loss 1.151, Accuracy 64.3): 100%|██████████| 571/571 [02:03<00:00,  4.64it/s]\n",
      "test_batch (Avg. Loss 1.212, Accuracy 62.0): 100%|██████████| 63/63 [00:04<00:00, 14.06it/s]\n",
      "*** Saved checkpoint checkpoints/rnn.pt at epoch 17\n",
      "ACT I. Shall we be honest to me?\n",
      "\n",
      "SICINIUS:\n",
      "I will have a fashion to the Capitol.\n",
      "\n",
      "SICINIUS:\n",
      "He is c\n",
      "--- EPOCH 18/50 ---\n",
      "train_batch (Avg. Loss 1.149, Accuracy 64.4): 100%|██████████| 571/571 [02:03<00:00,  4.63it/s]\n",
      "test_batch (Avg. Loss 1.211, Accuracy 62.0): 100%|██████████| 63/63 [00:04<00:00, 14.05it/s]\n",
      "*** Saved checkpoint checkpoints/rnn.pt at epoch 18\n",
      "ACT I. Sconding and the DUKE OF YORK\n",
      "\n",
      "  CAESAR. Now, when you was desperate to this earth?\n",
      "    O wor\n",
      "--- EPOCH 19/50 ---\n",
      "train_batch (Avg. Loss 1.148, Accuracy 64.4): 100%|██████████| 571/571 [02:02<00:00,  4.64it/s]\n",
      "test_batch (Avg. Loss 1.209, Accuracy 62.0): 100%|██████████| 63/63 [00:04<00:00, 14.21it/s]\n",
      "*** Saved checkpoint checkpoints/rnn.pt at epoch 19\n",
      "ACT I.\n",
      "\n",
      "                                Enter MARCUS\n",
      "                                               \n",
      "--- EPOCH 20/50 ---\n",
      "train_batch (Avg. Loss 1.146, Accuracy 64.5): 100%|██████████| 571/571 [02:02<00:00,  4.65it/s]\n",
      "test_batch (Avg. Loss 1.208, Accuracy 62.1): 100%|██████████| 63/63 [00:04<00:00, 14.06it/s]\n",
      "*** Saved checkpoint checkpoints/rnn.pt at epoch 20\n",
      "ACT I.\n",
      "  ANTONY. What shall be sad between your master's death?\n",
      "    [To CLOTEN]  I will see the town\n",
      "--- EPOCH 21/50 ---\n",
      "train_batch (Avg. Loss 1.145, Accuracy 64.5): 100%|██████████| 571/571 [02:03<00:00,  4.63it/s]\n",
      "test_batch (Avg. Loss 1.206, Accuracy 62.1): 100%|██████████| 63/63 [00:04<00:00, 14.28it/s]\n",
      "*** Saved checkpoint checkpoints/rnn.pt at epoch 21\n",
      "ACT I. Renowned PAGE]\n",
      "  TITUS. Why, what a sword? Wherefore do you not hold you?\n",
      "  SICINIUS. There w\n",
      "--- EPOCH 22/50 ---\n",
      "train_batch (Avg. Loss 1.144, Accuracy 64.5): 100%|██████████| 571/571 [02:04<00:00,  4.59it/s]\n",
      "test_batch (Avg. Loss 1.208, Accuracy 62.0): 100%|██████████| 63/63 [00:04<00:00, 14.25it/s]\n",
      "*** Saved checkpoint checkpoints/rnn.pt at epoch 22\n",
      "ACT I. So do I have my daughter.\n",
      "\n",
      "                                Enter a SERVANT\n",
      "\n",
      "  CONSTABLE. And \n",
      "--- EPOCH 23/50 ---\n",
      "train_batch (Avg. Loss 1.142, Accuracy 64.6): 100%|██████████| 571/571 [02:03<00:00,  4.64it/s]\n",
      "test_batch (Avg. Loss 1.206, Accuracy 62.1): 100%|██████████| 63/63 [00:04<00:00, 14.32it/s]\n",
      "*** Saved checkpoint checkpoints/rnn.pt at epoch 23\n",
      "ACT I.\n",
      "\n",
      "  What news a man to him?\n",
      "    I say the worser may be sure of me.\n",
      "    The honour of the thin\n",
      "--- EPOCH 24/50 ---\n",
      "train_batch (Avg. Loss 1.141, Accuracy 64.6): 100%|██████████| 571/571 [02:03<00:00,  4.64it/s]\n",
      "test_batch (Avg. Loss 1.204, Accuracy 62.2): 100%|██████████| 63/63 [00:04<00:00, 14.05it/s]\n",
      "*** Saved checkpoint checkpoints/rnn.pt at epoch 24\n",
      "ACT I. The best of this hath could not see him.\n",
      "ANTIPHOLUS OF EPHESUS. The first I cannot tell you m\n",
      "--- EPOCH 25/50 ---\n",
      "train_batch (Avg. Loss 1.140, Accuracy 64.6): 100%|██████████| 571/571 [02:02<00:00,  4.65it/s]\n",
      "test_batch (Avg. Loss 1.205, Accuracy 62.1): 100%|██████████| 63/63 [00:04<00:00, 14.03it/s]\n",
      "*** Saved checkpoint checkpoints/rnn.pt at epoch 25\n",
      "ACT I. Be patient to the Capitol.\n",
      "\n",
      "  OLIVER. Where have you taken it?\n",
      "  FIRST CITIZEN. I will be tru\n",
      "--- EPOCH 26/50 ---\n",
      "train_batch (Avg. Loss 1.138, Accuracy 64.6): 100%|██████████| 571/571 [02:02<00:00,  4.64it/s]\n",
      "test_batch (Avg. Loss 1.203, Accuracy 62.2): 100%|██████████| 63/63 [00:04<00:00, 14.33it/s]\n",
      "*** Saved checkpoint checkpoints/rnn.pt at epoch 26\n",
      "ACT I.\n",
      "\n",
      "                              Enter a SERVANT\n",
      "\n",
      "  CASSIUS. Here comes the world. The son of M\n",
      "--- EPOCH 27/50 ---\n",
      "train_batch (Avg. Loss 1.137, Accuracy 64.7): 100%|██████████| 571/571 [02:02<00:00,  4.64it/s]\n",
      "test_batch (Avg. Loss 1.202, Accuracy 62.2): 100%|██████████| 63/63 [00:04<00:00, 14.05it/s]\n",
      "*** Saved checkpoint checkpoints/rnn.pt at epoch 27\n",
      "ACT I. Shall I be better than the\n",
      "    sin of a foul hand of this most part of a several doors as\n",
      "   \n",
      "--- EPOCH 28/50 ---\n",
      "train_batch (Avg. Loss 1.136, Accuracy 64.7): 100%|██████████| 571/571 [02:03<00:00,  4.63it/s]\n",
      "test_batch (Avg. Loss 1.201, Accuracy 62.3): 100%|██████████| 63/63 [00:04<00:00, 14.03it/s]\n",
      "*** Saved checkpoint checkpoints/rnn.pt at epoch 28\n",
      "ACT I. Stephand,\n",
      "    If you were like a grave deserves the strange\n",
      "    To the sea and merry word.\n",
      "  \n",
      "--- EPOCH 29/50 ---\n",
      "train_batch (Avg. Loss 1.135, Accuracy 64.8): 100%|██████████| 571/571 [02:05<00:00,  4.56it/s]\n",
      "test_batch (Avg. Loss 1.203, Accuracy 62.3): 100%|██████████| 63/63 [00:04<00:00, 13.87it/s]\n",
      "*** Saved checkpoint checkpoints/rnn.pt at epoch 29\n",
      "ACT I.\n",
      "\n",
      "                              Enter OLIVIA\n",
      "\n",
      "  FIRST LORD. By my troth, you will not see thee\n",
      "--- EPOCH 30/50 ---\n",
      "train_batch (Avg. Loss 1.134, Accuracy 64.8): 100%|██████████| 571/571 [02:07<00:00,  4.49it/s]\n",
      "test_batch (Avg. Loss 1.201, Accuracy 62.3): 100%|██████████| 63/63 [00:04<00:00, 13.98it/s]\n",
      "*** Saved checkpoint checkpoints/rnn.pt at epoch 30\n",
      "ACT I.\n",
      "\n",
      "                          Enter a MESSENGER\n",
      "    Wilt thou advance the tribunes of the people\n",
      "--- EPOCH 31/50 ---\n",
      "train_batch (Avg. Loss 1.133, Accuracy 64.8): 100%|██████████| 571/571 [02:05<00:00,  4.53it/s]\n",
      "test_batch (Avg. Loss 1.200, Accuracy 62.2): 100%|██████████| 63/63 [00:04<00:00, 13.85it/s]\n",
      "*** Saved checkpoint checkpoints/rnn.pt at epoch 31\n",
      "ACT I.\n",
      "\n",
      "                               Enter SICINIUS\n",
      "\n",
      "  ANTONIO. Well, sir, I cannot tell me so muc\n",
      "--- EPOCH 32/50 ---\n",
      "train_batch (Avg. Loss 1.131, Accuracy 64.8): 100%|██████████| 571/571 [02:05<00:00,  4.54it/s]\n",
      "test_batch (Avg. Loss 1.200, Accuracy 62.3): 100%|██████████| 63/63 [00:04<00:00, 13.85it/s]\n",
      "*** Saved checkpoint checkpoints/rnn.pt at epoch 32\n",
      "ACT I.  \n",
      "\n",
      "                                         Enter a SOLDIER\n",
      "\n",
      "  SECOND LORD. Ay, that we will \n",
      "--- EPOCH 33/50 ---\n",
      "train_batch (Avg. Loss 1.130, Accuracy 64.8): 100%|██████████| 571/571 [02:05<00:00,  4.53it/s]\n",
      "test_batch (Avg. Loss 1.201, Accuracy 62.2): 100%|██████████| 63/63 [00:04<00:00, 13.74it/s]\n",
      "*** Saved checkpoint checkpoints/rnn.pt at epoch 33\n",
      "Epoch    33: reducing learning rate of group 0 to 7.2900e-04.\n",
      "ACT I.\n",
      "\n",
      "  BIONDELLO. The gods can do it, sir, and she is not so\n",
      "    sent on his intents to me that s\n",
      "--- EPOCH 34/50 ---\n",
      "train_batch (Avg. Loss 1.127, Accuracy 64.9): 100%|██████████| 571/571 [02:05<00:00,  4.54it/s]\n",
      "test_batch (Avg. Loss 1.198, Accuracy 62.3): 100%|██████████| 63/63 [00:04<00:00, 13.74it/s]\n",
      "*** Saved checkpoint checkpoints/rnn.pt at epoch 34\n",
      "ACT I.\n",
      "\n",
      "                             Enter PROVOST\n",
      "\n",
      "  SECOND GENTLEMAN. O, fare you well.\n",
      "    Seek h\n",
      "--- EPOCH 35/50 ---\n",
      "train_batch (Avg. Loss 1.126, Accuracy 65.0): 100%|██████████| 571/571 [02:06<00:00,  4.53it/s]\n",
      "test_batch (Avg. Loss 1.198, Accuracy 62.3): 100%|██████████| 63/63 [00:04<00:00, 13.84it/s]\n",
      "*** Saved checkpoint checkpoints/rnn.pt at epoch 35\n",
      "ACT I.\n",
      "\n",
      "  GLOUCESTER. O, sir, a woman in this day be ours!\n",
      "    The man is banish'd with the people o\n",
      "--- EPOCH 36/50 ---\n",
      "train_batch (Avg. Loss 1.125, Accuracy 65.0): 100%|██████████| 571/571 [02:05<00:00,  4.54it/s]\n",
      "test_batch (Avg. Loss 1.196, Accuracy 62.4): 100%|██████████| 63/63 [00:04<00:00, 14.01it/s]\n",
      "*** Saved checkpoint checkpoints/rnn.pt at epoch 36\n",
      "ACT I.\n",
      "\n",
      "                                           Enter COSTARD\n",
      "\n",
      "  SIR TOBY. You shall see your lov\n",
      "--- EPOCH 37/50 ---\n",
      "train_batch (Avg. Loss 1.124, Accuracy 65.0): 100%|██████████| 571/571 [02:05<00:00,  4.53it/s]\n",
      "test_batch (Avg. Loss 1.196, Accuracy 62.4): 100%|██████████| 63/63 [00:04<00:00, 14.03it/s]\n",
      "*** Saved checkpoint checkpoints/rnn.pt at epoch 37\n",
      "ACT I.\n",
      "\n",
      "                             Enter CLEOPATRA\n",
      "\n",
      "    O word, thou art a fool, that should be ma\n",
      "--- EPOCH 38/50 ---\n",
      "train_batch (Avg. Loss 1.124, Accuracy 65.0): 100%|██████████| 571/571 [02:05<00:00,  4.54it/s]\n",
      "test_batch (Avg. Loss 1.197, Accuracy 62.3): 100%|██████████| 63/63 [00:04<00:00, 13.74it/s]\n",
      "*** Saved checkpoint checkpoints/rnn.pt at epoch 38\n",
      "ACT I.  \n",
      "    And so much of the common country's death,\n",
      "    The grace of the man will be denied\n",
      "    \n",
      "--- EPOCH 39/50 ---\n",
      "train_batch (Avg. Loss 1.123, Accuracy 65.1): 100%|██████████| 571/571 [02:05<00:00,  4.54it/s]\n",
      "test_batch (Avg. Loss 1.196, Accuracy 62.4): 100%|██████████| 63/63 [00:04<00:00, 14.00it/s]\n",
      "*** Saved checkpoint checkpoints/rnn.pt at epoch 39\n",
      "ACT I.\n",
      "\n",
      "                                   Enter ALEXAS\n",
      "\n",
      "    Therefore she was the help of all the d\n",
      "--- EPOCH 40/50 ---\n",
      "train_batch (Avg. Loss 1.121, Accuracy 65.1): 100%|██████████| 571/571 [02:05<00:00,  4.54it/s]\n",
      "test_batch (Avg. Loss 1.196, Accuracy 62.4): 100%|██████████| 63/63 [00:04<00:00, 14.03it/s]\n",
      "*** Saved checkpoint checkpoints/rnn.pt at epoch 40\n",
      "ACT I. Scotland\n",
      "  Clarence, Clifford, then bear the strong body of the state\n",
      "  Who shall be found to\n",
      "--- EPOCH 41/50 ---\n",
      "train_batch (Avg. Loss 1.121, Accuracy 65.1): 100%|██████████| 571/571 [02:06<00:00,  4.51it/s]\n",
      "test_batch (Avg. Loss 1.195, Accuracy 62.4): 100%|██████████| 63/63 [00:04<00:00, 13.98it/s]\n",
      "*** Saved checkpoint checkpoints/rnn.pt at epoch 41\n",
      "ACT I.\n",
      "\n",
      "  TIMON. I have been so admitted on the world,\n",
      "    That the best gods will show the grace of\n",
      "--- EPOCH 42/50 ---\n",
      "train_batch (Avg. Loss 1.120, Accuracy 65.1): 100%|██████████| 571/571 [02:06<00:00,  4.50it/s]\n",
      "test_batch (Avg. Loss 1.193, Accuracy 62.4): 100%|██████████| 63/63 [00:04<00:00, 13.97it/s]\n",
      "*** Saved checkpoint checkpoints/rnn.pt at epoch 42\n",
      "ACT I.\n",
      "\n",
      "                                Enter CONSTABLE\n",
      "\n",
      "  SALERIO. Why, then it is so bargain'd to \n",
      "--- EPOCH 43/50 ---\n",
      "train_batch (Avg. Loss 1.120, Accuracy 65.1): 100%|██████████| 571/571 [02:06<00:00,  4.52it/s]\n",
      "test_batch (Avg. Loss 1.194, Accuracy 62.4): 100%|██████████| 63/63 [00:04<00:00, 14.01it/s]\n",
      "*** Saved checkpoint checkpoints/rnn.pt at epoch 43\n",
      "ACT I. A rest\n",
      "  To put the world to see him.\n",
      "  ANTONY. The service be not, sweet son to my son,\n",
      "    \n",
      "--- EPOCH 44/50 ---\n",
      "train_batch (Avg. Loss 1.119, Accuracy 65.2): 100%|██████████| 571/571 [02:06<00:00,  4.52it/s]\n",
      "test_batch (Avg. Loss 1.196, Accuracy 62.4): 100%|██████████| 63/63 [00:04<00:00, 13.98it/s]\n",
      "*** Saved checkpoint checkpoints/rnn.pt at epoch 44\n",
      "ACT I.\n",
      "\n",
      "                             Enter a SERVANT\n",
      "\n",
      "  POET. I think my father may be said you see\n",
      "\n",
      "--- EPOCH 45/50 ---\n",
      "train_batch (Avg. Loss 1.118, Accuracy 65.2): 100%|██████████| 571/571 [02:06<00:00,  4.53it/s]\n",
      "test_batch (Avg. Loss 1.193, Accuracy 62.5): 100%|██████████| 63/63 [00:04<00:00, 13.77it/s]\n",
      "*** Saved checkpoint checkpoints/rnn.pt at epoch 45\n",
      "ACT I.\n",
      "\n",
      "  PORTIA. Take her to the stranger of the noble son\n",
      "    That was a gentleman to bring them t\n",
      "--- EPOCH 46/50 ---\n",
      "train_batch (Avg. Loss 1.117, Accuracy 65.2): 100%|██████████| 571/571 [02:05<00:00,  4.54it/s]\n",
      "test_batch (Avg. Loss 1.197, Accuracy 62.5): 100%|██████████| 63/63 [00:04<00:00, 14.02it/s]\n",
      "*** Saved checkpoint checkpoints/rnn.pt at epoch 46\n",
      "ACT I.\n",
      "    Where is he and a king? What means me with you?\n",
      "    I am a kingdom to the earth, and his \n",
      "--- EPOCH 47/50 ---\n",
      "train_batch (Avg. Loss 1.117, Accuracy 65.2): 100%|██████████| 571/571 [02:06<00:00,  4.52it/s]\n",
      "test_batch (Avg. Loss 1.194, Accuracy 62.4): 100%|██████████| 63/63 [00:04<00:00, 13.66it/s]\n",
      "*** Saved checkpoint checkpoints/rnn.pt at epoch 47\n",
      "ACT I. What is that?\n",
      "DROMIO OF SYRACUSE. No, no, my lord.\n",
      "  CASSIUS. Sir, I say to the devil.\n",
      "  BRUT\n",
      "--- EPOCH 48/50 ---\n",
      "train_batch (Avg. Loss 1.116, Accuracy 65.2): 100%|██████████| 571/571 [02:06<00:00,  4.52it/s]\n",
      "test_batch (Avg. Loss 1.192, Accuracy 62.5): 100%|██████████| 63/63 [00:04<00:00, 13.76it/s]\n",
      "*** Saved checkpoint checkpoints/rnn.pt at epoch 48\n",
      "ACT I. A band of his acquaintance, and\n",
      "    they will be dignified.\n",
      "ANTIPHOLUS OF EPHESUS. The articl\n",
      "--- EPOCH 49/50 ---\n",
      "train_batch (Avg. Loss 1.115, Accuracy 65.3): 100%|██████████| 571/571 [02:05<00:00,  4.53it/s]\n",
      "test_batch (Avg. Loss 1.191, Accuracy 62.5): 100%|██████████| 63/63 [00:04<00:00, 13.74it/s]\n",
      "*** Saved checkpoint checkpoints/rnn.pt at epoch 49\n",
      "ACT I. Desdemona and the people can be\n",
      "  persuaded the good ones. This is the company.\n",
      "  CORIOLANUS.\n",
      "--- EPOCH 50/50 ---\n",
      "train_batch (Avg. Loss 1.114, Accuracy 65.3): 100%|██████████| 571/571 [02:05<00:00,  4.54it/s]\n",
      "test_batch (Avg. Loss 1.191, Accuracy 62.6): 100%|██████████| 63/63 [00:04<00:00, 14.00it/s]\n",
      "*** Saved checkpoint checkpoints/rnn.pt at epoch 50\n",
      "ACT I. Something to see the way of state.\n",
      "ANTIPHOLUS OF EPHESUS. The man that I have seen my brother\n"
     ]
    },
    {
     "data": {
      "image/png": "[encoded data removed]",
      "text/plain": [
       "<Figure size 1152x720 with 4 Axes>"
      ]
     },
     "metadata": {
      "needs_background": "light"
     },
     "output_type": "display_data"
    }
   ],
   "source": [
    "from cs236781.plot import plot_fit\n",
    "\n",
    "def post_epoch_fn(epoch, train_res, test_res, verbose):\n",
    "    # Update learning rate\n",
    "    scheduler.step(test_res.accuracy)\n",
    "    # Sample from model to show progress\n",
    "    if verbose:\n",
    "        start_seq = \"ACT I.\"\n",
    "        generated_sequence = charnn.generate_from_model(\n",
    "            model, start_seq, 100, (char_to_idx,idx_to_char), T=0.5\n",
    "        )\n",
    "        print(generated_sequence)\n",
    "\n",
    "# Train, unless final checkpoint is found\n",
    "checkpoint_file_final = f'{checkpoint_file}_final1111.pt'\n",
    "if os.path.isfile(checkpoint_file_final):\n",
    "    print(f'*** Loading final checkpoint file {checkpoint_file_final} instead of training')\n",
    "    saved_state = torch.load(checkpoint_file_final, map_location=device)\n",
    "    model.load_state_dict(saved_state['model_state'])\n",
    "else:\n",
    "    try:\n",
    "        # Print pre-training sampling\n",
    "        print(charnn.generate_from_model(model, \"ACT I.\", 100, (char_to_idx,idx_to_char), T=0.5))\n",
    "\n",
    "        fit_res = trainer.fit(dl_train, dl_test, num_epochs, max_batches=None,\n",
    "                              post_epoch_fn=post_epoch_fn, early_stopping=early_stopping,\n",
    "                              checkpoints=checkpoint_file, print_every=1)\n",
    "        \n",
    "        fig, axes = plot_fit(fit_res)\n",
    "    except KeyboardInterrupt as e:\n",
    "        print('\\n *** Training interrupted by user')"
   ]
  },
  {
   "cell_type": "markdown",
   "metadata": {},
   "source": [
    "### Generating a work of art\n",
    "<a id=part1_8></a>"
   ]
  },
  {
   "cell_type": "markdown",
   "metadata": {},
   "source": [
    "Armed with our fully trained model, let's generate the next Hamlet! You should experiment with modifying the sampling temperature and see what happens.\n",
    "\n",
    "The text you generate should “look” like a Shakespeare play:\n",
    "old-style English words and sentence structure, directions for the actors\n",
    "(like “Exit/Enter”), sections (Act I/Scene III) etc.\n",
    "There will be no coherent plot of course, but it should at least seem like\n",
    "a Shakespearean play when not looking too closely.\n",
    "If this is not what you see, go back, debug and/or and re-train.\n",
    "\n",
    "**TODO**: Specify the generation parameters in the `part1_generation_params()` function within the `hw3/answers.py` module."
   ]
  },
  {
   "cell_type": "code",
   "execution_count": 32,
   "metadata": {},
   "outputs": [
    {
     "name": "stdout",
     "output_type": "stream",
     "text": [
      "ACT I. SCENE 1.\n",
      "Rousillon. The COUNT'S palace\n",
      "Enter BERTRAM, the COUNTESS OF ROUSILLON, HELENA, and LAFEU, all in black\n",
      "COUNTESS. In delivering my son from me, I bury a second husband.\n",
      "BERTRAM. And I in going, madam, weep o'er my father's death anew;\n",
      "but I must attend his Majesty's command, to whom I am now in\n",
      "ward, evermore in subjection.\n",
      "LAFEU. You shall find of the King a husband, madam; you, sir, a father\n",
      ".He that so generally is at all times good must of\n",
      "  preferment on the town.\n",
      "  Benvolio, shall I love him, sir? I am too honest.\n",
      "  Hot. No, my lord?\n",
      "  Ham. It is not to be so.\n",
      "  Corn. I will not follow.\n",
      "  Ham. What says the King her husband?\n",
      "  Claud. What is the matter?\n",
      "  Ben. I do remember thee and say you have a day.\n",
      "  Pol. I am the father of the living soul,\n",
      "    And in the gates of Antony and him\n",
      "    In more for that which they have some thing straight.\n",
      "    O, all the souls is not a soldier's soul,\n",
      "    And see the other wonder on the world.\n",
      "    She hath no words again, and will be here.\n",
      "    But what says this? Why, that so many hours\n",
      "    Will have my life and give this peace to him.\n",
      "    But that the purpose is but three are strange.\n",
      "    And then I shall not stay in this design,\n",
      "    I am a service to the Cupid himself.\n",
      "    But what is this to th' captain of the house?\n",
      "    What then I see that I may show the day\n",
      "    To be so soon as thou art too good morrow.\n",
      "    Thou shalt not live so seek to make a little\n",
      "    That thou shalt say the order of the state\n",
      "    That I have stood by the wars of the traitor,\n",
      "    That thou hast sent the law of great a thousand.\n",
      "    Therefore is it as thou art to hear her that\n",
      "    The most old man of this advantage in the ground\n",
      "    Is more than he did come at me. The gods\n",
      "    That do him strange forms from such brave life\n",
      "    That he shall leave the fair of this shadow walls;\n",
      "    And that that she was part, that he will all\n",
      "    That he doth break to th' sense of heaven but now.\n",
      "    Now will I do the highest thing to hear\n",
      "    The blood of my thanks. The better stroke of thine,\n",
      "    Which cannot hold my state and honour stood\n",
      "    To stand upon my message. What may we make his means?\n",
      "    I have a case of this hour to my lord;\n",
      "    Be patient, soft, and spare my brother's daughter,\n",
      "    And that she was a bloody day again.\n",
      "    The rushing that I see the very case\n",
      "    That they have set the state of all the rest\n",
      "    That would be well done in a man that doth.\n",
      "                                                                           Exit\n",
      "  DUKE. The best and more in the throne of the world,\n",
      "    Whose hand was more than all the rest of men.\n",
      "    This is the man, and stand with a most strange.\n",
      "    The common patient corners of the war,\n",
      "    Whose violent spirits shall love his banks of time\n",
      "    That he doth see them consul; and the devil\n",
      "    Is presently to me. My lord, I will not\n",
      "    That she is young and valiant and a flesh,\n",
      "    Or that the story of the present world,\n",
      "    That thou the mouth of princely fears the sea,\n",
      "    Whose life is better than the sea and earth\n",
      "    That would have a soldier than with man's death.\n",
      "    The Duke was worth the doors and we must stay.\n",
      "    Then now I was a fool to say so she\n",
      "    Was made the body of the part of th' mind;\n",
      "    The business of the tongues of sweet to him\n",
      "    Have the armour of the hand to stay.\n",
      "    I see you take my leave of my heart with me,\n",
      "    And all the world is made. What do you see,\n",
      "    If I deny me to the rest of mine?\n",
      "    I would not be the grace of his extremes;\n",
      "    And here, no tongue, and let me see the army.\n",
      "                                                                     Exeunt\n",
      "\n",
      "SCENE III.\n",
      "A room in the book. The doors and states\n",
      "\n",
      "Enter BERTRAM, with a palace\n",
      "\n",
      "  FIRST SOLDIER. I will take my leave to study it.\n",
      "  LAFEU. The market-place is there.\n",
      "    I shall offend you to the market-place.\n",
      "    I will not see the wealth of Athens in my son,\n",
      "    And I will tell you what I say of you.\n",
      "    If you do love him so, I have an hour\n",
      "    As she would stir the noblemen of mine,\n",
      "    And his remembrance and the thing thou wouldst not\n",
      "    A man that begg'd him to succeed me too.\n",
      "    I would not make the garden services of him\n",
      "    And make the sheep of steel and spirit of thine.\n",
      "    This is the morning to his armour thence  \n",
      "    That which the better strain of many salt\n",
      "    That which should ask the son of that tongue dead,\n",
      "    That had the dust of heart in his desire\n",
      "    To be the sun and charge. The grace of Rome,\n",
      "    And let the sun in him that was a shame\n",
      "    That would conceive him than the world to do.\n",
      "    And when you will, I have going with you,\n",
      "    That craves my soul and more than thou art seen,\n",
      "    And still be so an angry favour would.\n",
      "    The gods that born his court is best to have!\n",
      "    What says the battle of the court of France?\n",
      "    Is this the matter? But the gods do thither!\n",
      "    O thou shalt live, and this shall be my bond.\n",
      "    I will not show my sudden measure here.\n",
      "    What shall I stay at last? What say'st thou to the King?\n",
      "    These people had in all the sight of this,\n",
      "    And shall be made a little heart of words?\n",
      "    There was no more than in the earth is here.\n",
      "    What man thou dost be your own state of state,\n",
      "    In this virginity of the present story?\n",
      "    Therefore will be the rest of our strange story\n",
      "    Whereof the former souls of Proteus promis'd.\n",
      "    I came to the man that will not come by him.\n",
      "    I pray you stay to be the stroke of hearts,\n",
      "    But that the things that stands upon our rage,\n",
      "    And let him speak along. The same desire\n",
      "    Have not been worse than he hath died to thee.\n",
      "    We will not be a soldier to the state.\n",
      "    I would not wash a man of this world's house.\n",
      "                                                                  Exeunt\n",
      "\n",
      "SCENE III.\n",
      "A room in the table\n",
      "\n",
      "Enter ARIEL, with a street\n",
      "\n",
      "  DUKE. Why, what a season of the thing he doth\n",
      "    But chose me to the state of the famous son?\n",
      "    The truth is too far seal'd to thee, and hear\n",
      "    The life of those that was with them about\n",
      "    Their parts of this design that do the segue\n",
      "    Of their best hands, and with the truth of thee,\n",
      "    Being a thing strong and constant shelter and more strange\n",
      "    Than for his hands of death. I have no fear\n",
      "    To come to me in heart and true indeed,\n",
      "    And will you would prove that a banish'd cousin\n",
      "    To bear the man in peace and the deed of thee.\n",
      "    The words is mine own hand, to be a good and like\n",
      "    In distinct than a fair perfumed sun.\n",
      "    Well, I will see your countrymen and heart.\n",
      "                                                                  Exeunt\n",
      "\n",
      "SCENE II.\n",
      "A state and horse whereof becomes him.\n",
      "\n",
      "Enter Polonius.\n",
      "\n",
      "  Lear. What say you to the man? And when I live,\n",
      "     I would not think thou wilt be satisfied.\n",
      "     The bottom of this most to me is she!\n",
      "     Sir, I do prove a strange bed and my son.\n",
      "     He will not see your words, sir, and the worst\n",
      "     Will think it is the day of my love are\n",
      "     When he is so. There is a present service  \n",
      "     To see him speak in the banish'd soul of man.\n",
      "     The sons was many than my love to keep,\n",
      "     Which think them at the confount with the same,\n",
      "     And yet a sudden state whereof is bound,\n",
      "     For this indignity of our diseases\n",
      "     That may proclaim the sea of state and danger\n",
      "     That should have part so strange and such a moon.\n",
      "     The sun was banish'd and despis'd and dance,\n",
      "     Shall be the tongue of this strange instrument.\n",
      "     There is the mountains so that I may hear,\n",
      "     The most contrived of the bosom of my father,\n",
      "     Come on the wind. But what have I so stol'n?\n",
      "     Therefore I think it is the son of my most shame,\n",
      "     And so we shall see how he is a ground\n",
      "     To be a bed that were not so despair;\n",
      "     The present place was sent upon the field.\n",
      "     Then let me see the gods will see your bosom.\n",
      "     The market-place the business will be shown\n",
      "     The sun and all the world should hear the sense.\n",
      "     The truth and my true soul will do the state\n",
      "     To be a fault on thy sword. And when they would have\n",
      "     Proposed the hate of our desires to be so strange,\n",
      "     Where I was talk'd of an indicting off.\n",
      "     But what a day comes to say you are well?\n",
      "     I would not see your ladyship and heaven.\n",
      "     The breath of face of this content with heaven,\n",
      "     The secret strokes that we may paint the world.\n",
      "     The gods do well entreat you all to him,\n",
      "     And then the dearest affairs of the prince\n",
      "     That seems within the unhappy bloody process\n",
      "     And call me blood and sent for thee and me.\n",
      "     If you shall say 'tis for it.\n",
      "  OTHELLO.                                                                                                                                       Exit\n",
      "  PORTIA. A good condition!\n",
      "  COSTARD. Sir, I think I would not see the which I love you.\n",
      "  HOSTESS. Do you hear him see how the place whose black words are thought\n",
      "    done, but the one of the answer of my soul, and that he hath a day\n",
      "    of us? I could have seen the world to be a mother of the\n",
      "    shoulders.\n",
      "  CASSIO. The water shall be so a villain when he send me to the world, he\n",
      "    shall be ready to do with you all to serve more great and stay and see her\n",
      "    sport to be the good report of them. I am not so far\n",
      "    out of it.\n",
      "  CASSIO. I am but a good reason to a man that hath not done\n",
      "    since to content you to my love be wont to come; and there is\n",
      "    the best of him that I am so much as the world is the worse than the\n",
      "    shoulders of the court of the court, and the great story of the state\n",
      "    of my pleasure is more than they would not take the answer of the door\n",
      "    of the people, that the screeble of the world should be a word, but he was\n",
      "    shown and brought upon your cousin to the King of Claudio and my life\n",
      "    shall be so much as she for me. I must make him the stream of flattery\n",
      "    with my place and things, which brings but from his way to hear the\n",
      "    rest.\n",
      "  OLIVIA. Let him get thee along.\n",
      "  TRINCULO. A half an army when he says the gods is here\n"
     ]
    }
   ],
   "source": [
    "from hw3.answers import part1_generation_params\n",
    "\n",
    "start_seq, temperature = part1_generation_params()\n",
    "\n",
    "generated_sequence = charnn.generate_from_model(\n",
    "    model, start_seq, 10000, (char_to_idx,idx_to_char), T=temperature\n",
    ")\n",
    "\n",
    "print(generated_sequence)"
   ]
  },
  {
   "cell_type": "markdown",
   "metadata": {},
   "source": [
    "## Questions\n",
    "<a id=part1_9></a>"
   ]
  },
  {
   "cell_type": "markdown",
   "metadata": {},
   "source": [
    "**TODO** Answer the following questions. Write your answers in the appropriate variables in the module `hw3/answers.py`."
   ]
  },
  {
   "cell_type": "code",
   "execution_count": null,
   "metadata": {},
   "outputs": [],
   "source": [
    "from cs236781.answers import display_answer\n",
    "import hw3.answers"
   ]
  },
  {
   "cell_type": "markdown",
   "metadata": {},
   "source": [
    "### Question 1\n",
    "Why do we split the corpus into sequences instead of training on the whole text?"
   ]
  },
  {
   "cell_type": "code",
   "execution_count": null,
   "metadata": {},
   "outputs": [],
   "source": [
    "display_answer(hw3.answers.part1_q1)"
   ]
  },
  {
   "cell_type": "markdown",
   "metadata": {},
   "source": [
    "### Question 2\n",
    "How is it possible that the generated text clearly shows memory longer than the sequence length?"
   ]
  },
  {
   "cell_type": "code",
   "execution_count": null,
   "metadata": {},
   "outputs": [],
   "source": [
    "display_answer(hw3.answers.part1_q2)"
   ]
  },
  {
   "cell_type": "markdown",
   "metadata": {},
   "source": [
    "### Question 3\n",
    "Why are we not shuffling the order of batches when training?"
   ]
  },
  {
   "cell_type": "code",
   "execution_count": null,
   "metadata": {},
   "outputs": [],
   "source": [
    "display_answer(hw3.answers.part1_q3)"
   ]
  },
  {
   "cell_type": "markdown",
   "metadata": {},
   "source": [
    "### Question 4\n",
    "1. Why do we lower the temperature for sampling (compared to the default of $1.0$ when training)?\n",
    "2. What happens when the temperature is very high and why?\n",
    "3. What happens when the temperature is very low and why?"
   ]
  },
  {
   "cell_type": "code",
   "execution_count": null,
   "metadata": {},
   "outputs": [],
   "source": [
    "display_answer(hw3.answers.part1_q4)"
   ]
  }
 ],
 "metadata": {
  "kernelspec": {
   "display_name": "Python 3",
   "language": "python",
   "name": "python3"
  },
  "language_info": {
   "codemirror_mode": {
    "name": "ipython",
    "version": 3
   },
   "file_extension": ".py",
   "mimetype": "text/x-python",
   "name": "python",
   "nbconvert_exporter": "python",
   "pygments_lexer": "ipython3",
   "version": "3.8.6"
  }
 },
 "nbformat": 4,
 "nbformat_minor": 4
}
